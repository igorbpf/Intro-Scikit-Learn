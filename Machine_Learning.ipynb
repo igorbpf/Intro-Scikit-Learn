{
 "cells": [
  {
   "cell_type": "markdown",
   "metadata": {},
   "source": [
    "# Machine Learning"
   ]
  },
  {
   "cell_type": "markdown",
   "metadata": {},
   "source": [
    "**A aprendizagem de máquina é o subcampo da ciência da computação que, segundo Arthur Samuel, em 1959, dá aos \"computadores a capacidade de aprender sem serem explicitamente programados\". Desenvolvida a partir do estudo do reconhecimento de padrões e da teoria da aprendizagem computacional na inteligência artificial, o aprendizado de máquina explora o estudo e a construção de algoritmos que podem aprender e fazer previsões - tais algoritmos superam instruções de programas estritamente estáticos fazendo previsões ou decisões baseadas em dados, através da construção de um modelo a partir de entradas de amostras.**\n",
    "\n",
    "Aplicações:\n",
    "\n",
    "Segurança de Dados;\n",
    "\n",
    "Trading;\n",
    "\n",
    "Assistência Média;\n",
    "\n",
    "Marketing Personalizado;\n",
    "\n",
    "Detecção de Fraudes;\n",
    "\n",
    "Recomendações de Compras;\n",
    "\n",
    "Visão Computacional;\n",
    "\n",
    "Busca Online;\n",
    "\n",
    "Processamento de Linguagem Natural (NLP);\n",
    "\n",
    "Carros inteligentes.\n"
   ]
  },
  {
   "cell_type": "markdown",
   "metadata": {},
   "source": [
    "# Tipos de Machine Learning"
   ]
  },
  {
   "cell_type": "markdown",
   "metadata": {},
   "source": [
    "**Aprendizado Supervisionado** -- O computador é confrontado com exemplos de entradas (features) e as saídas desejadas, dadas por um \"professor\", e o objetivo é aprender uma regra geral que mapeia as entradas às saídas.\n",
    "\n",
    "<img src=\"files/class_reg.png\">\n",
    "\n",
    "**Aprendizado Não Supervisionado** -- Nenhuma saída desejada é dada ao algoritmo de aprendizagem, deixando-o por conta própria para encontrar estrutura em sua entrada.\n",
    "\n",
    "<img src=\"files/cluster.png\">\n",
    "\n",
    "**Aprendizado por Reforço** -- O agente/algoritmo interage com um ambiente dinâmico em que deve executar uma determinada meta. \n",
    "\n",
    "<img src=\"files/reinforcement.png\">"
   ]
  },
  {
   "cell_type": "markdown",
   "metadata": {},
   "source": [
    "# Scikit-Learn \n",
    "\n"
   ]
  },
  {
   "cell_type": "code",
   "execution_count": 1,
   "metadata": {},
   "outputs": [
    {
     "name": "stdout",
     "output_type": "stream",
     "text": [
      "Boston House Prices dataset\n",
      "===========================\n",
      "\n",
      "Notes\n",
      "------\n",
      "Data Set Characteristics:  \n",
      "\n",
      "    :Number of Instances: 506 \n",
      "\n",
      "    :Number of Attributes: 13 numeric/categorical predictive\n",
      "    \n",
      "    :Median Value (attribute 14) is usually the target\n",
      "\n",
      "    :Attribute Information (in order):\n",
      "        - CRIM     per capita crime rate by town\n",
      "        - ZN       proportion of residential land zoned for lots over 25,000 sq.ft.\n",
      "        - INDUS    proportion of non-retail business acres per town\n",
      "        - CHAS     Charles River dummy variable (= 1 if tract bounds river; 0 otherwise)\n",
      "        - NOX      nitric oxides concentration (parts per 10 million)\n",
      "        - RM       average number of rooms per dwelling\n",
      "        - AGE      proportion of owner-occupied units built prior to 1940\n",
      "        - DIS      weighted distances to five Boston employment centres\n",
      "        - RAD      index of accessibility to radial highways\n",
      "        - TAX      full-value property-tax rate per $10,000\n",
      "        - PTRATIO  pupil-teacher ratio by town\n",
      "        - B        1000(Bk - 0.63)^2 where Bk is the proportion of blacks by town\n",
      "        - LSTAT    % lower status of the population\n",
      "        - MEDV     Median value of owner-occupied homes in $1000's\n",
      "\n",
      "    :Missing Attribute Values: None\n",
      "\n",
      "    :Creator: Harrison, D. and Rubinfeld, D.L.\n",
      "\n",
      "This is a copy of UCI ML housing dataset.\n",
      "http://archive.ics.uci.edu/ml/datasets/Housing\n",
      "\n",
      "\n",
      "This dataset was taken from the StatLib library which is maintained at Carnegie Mellon University.\n",
      "\n",
      "The Boston house-price data of Harrison, D. and Rubinfeld, D.L. 'Hedonic\n",
      "prices and the demand for clean air', J. Environ. Economics & Management,\n",
      "vol.5, 81-102, 1978.   Used in Belsley, Kuh & Welsch, 'Regression diagnostics\n",
      "...', Wiley, 1980.   N.B. Various transformations are used in the table on\n",
      "pages 244-261 of the latter.\n",
      "\n",
      "The Boston house-price data has been used in many machine learning papers that address regression\n",
      "problems.   \n",
      "     \n",
      "**References**\n",
      "\n",
      "   - Belsley, Kuh & Welsch, 'Regression diagnostics: Identifying Influential Data and Sources of Collinearity', Wiley, 1980. 244-261.\n",
      "   - Quinlan,R. (1993). Combining Instance-Based and Model-Based Learning. In Proceedings on the Tenth International Conference of Machine Learning, 236-243, University of Massachusetts, Amherst. Morgan Kaufmann.\n",
      "   - many more! (see http://archive.ics.uci.edu/ml/datasets/Housing)\n",
      "\n"
     ]
    }
   ],
   "source": [
    "from __future__ import absolute_import, division, print_function\n",
    "\n",
    "# Aprendizado supervisionado\n",
    "from sklearn.datasets import load_boston\n",
    "boston = load_boston()\n",
    "\n",
    "print(boston.DESCR)\n"
   ]
  },
  {
   "cell_type": "code",
   "execution_count": 2,
   "metadata": {},
   "outputs": [
    {
     "name": "stdout",
     "output_type": "stream",
     "text": [
      "[  6.32000000e-03   1.80000000e+01   2.31000000e+00   0.00000000e+00\n",
      "   5.38000000e-01   6.57500000e+00   6.52000000e+01   4.09000000e+00\n",
      "   1.00000000e+00   2.96000000e+02   1.53000000e+01   3.96900000e+02\n",
      "   4.98000000e+00]\n",
      "24.0\n"
     ]
    }
   ],
   "source": [
    "print(boston.data[0])\n",
    "\n",
    "print(boston.target[0])\n",
    "\n",
    "# Usar apenas uma feature\n",
    "X = boston.data[:,5]\n",
    "\n",
    "# Preço\n",
    "y = boston.target\n"
   ]
  },
  {
   "cell_type": "code",
   "execution_count": 3,
   "metadata": {},
   "outputs": [
    {
     "data": {
      "image/png": "[encoded data removed]",
      "text/plain": [
       "<matplotlib.figure.Figure at 0x7f90f94e7a90>"
      ]
     },
     "metadata": {},
     "output_type": "display_data"
    }
   ],
   "source": [
    "import matplotlib.pyplot as plt\n",
    "%matplotlib inline\n",
    "\n",
    "plt.figure(figsize=(10,10))\n",
    "plt.scatter(X, y)\n",
    "plt.xlabel(\"Media de quartos na vizinhanca\")\n",
    "plt.ylabel(\"Preco\")\n",
    "plt.title(\"Relacao entre preco e numero de quartos\")\n",
    "plt.show()"
   ]
  },
  {
   "cell_type": "code",
   "execution_count": null,
   "metadata": {
    "collapsed": true
   },
   "outputs": [],
   "source": [
    "from sklearn.linear_model import LinearRegression\n",
    "from sklearn.model_selection import train_test_split\n",
    "\n",
    "# Reshaping \n",
    "X = X.reshap"
   ]
  },
  {
   "cell_type": "code",
   "execution_count": 4,
   "metadata": {
    "collapsed": true
   },
   "outputs": [],
   "source": [
    "from sklearn.linear_model import LinearRegression\n",
    "from sklearn.model_selection import train_test_split\n",
    "\n",
    "# Reshaping \n",
    "X = X.reshape(-1, 1)"
   ]
  },
  {
   "cell_type": "code",
   "execution_count": null,
   "metadata": {
    "collapsed": true
   },
   "outputs": [],
   "source": [
    "# Dividir dados em treinamento e teste\n",
    "X_train, X_test, y_train, y_test = train_test_split(X, y, train_size=0.7)"
   ]
  },
  {
   "cell_type": "code",
   "execution_count": 5,
   "metadata": {
    "collapsed": true
   },
   "outputs": [],
   "source": [
    "from sklearn.linear_model import LinearRegression\n",
    "from sklearn.model_selection import train_test_split\n",
    "\n",
    "# Reshaping \n",
    "#X = X.reshape(-1, 1)\n",
    "\n",
    "# Dividir dados em treinamento e teste\n",
    "X_train, X_test, y_train, y_test = train_test_split(X, y, train_size=0.7)\n",
    "\n",
    "# Criar algoritmo\n",
    "reg = LinearRegression()\n",
    "\n",
    "# Treinamento\n",
    "reg.fit(X_train, y_train)\n",
    "\n",
    "# Fazendo previsões\n",
    "y_pred = reg.predict(X_train)\n",
    "\n"
   ]
  },
  {
   "cell_type": "code",
   "execution_count": 6,
   "metadata": {},
   "outputs": [
    {
     "data": {
      "image/png": "[encoded data removed]",
      "text/plain": [
       "<matplotlib.figure.Figure at 0x7f90f5c14050>"
      ]
     },
     "metadata": {},
     "output_type": "display_data"
    }
   ],
   "source": [
    "plt.figure(figsize=(10,10))\n",
    "plt.scatter(X, y)\n",
    "\n",
    "# Plotar modelo treinado\n",
    "plt.plot(X_train, y_pred, color='red')\n",
    "\n",
    "plt.xlabel(\"Media de quartos na vizinhanca\")\n",
    "plt.ylabel(\"Preco\")\n",
    "plt.title(\"Relacao entre preco e numero de quartos\")\n",
    "plt.show()"
   ]
  },
  {
   "cell_type": "code",
   "execution_count": 7,
   "metadata": {},
   "outputs": [
    {
     "name": "stdout",
     "output_type": "stream",
     "text": [
      "O R2 é 0.486129483919\n"
     ]
    }
   ],
   "source": [
    "# Avaliando modelo\n",
    "\n",
    "R2 = reg.score(X_test, y_test)\n",
    "\n",
    "print(\"O R2 é {}\".format(R2))"
   ]
  },
  {
   "cell_type": "code",
   "execution_count": 8,
   "metadata": {},
   "outputs": [
    {
     "name": "stdout",
     "output_type": "stream",
     "text": [
      "O R2 é 0.762076524299\n"
     ]
    }
   ],
   "source": [
    "# Usar todas as features\n",
    "X = boston.data\n",
    "\n",
    "# Dividir dados em treinamento e teste\n",
    "X_train, X_test, y_train, y_test = train_test_split(X, y, train_size=0.7)\n",
    "\n",
    "# Criar algoritmo\n",
    "reg = LinearRegression()\n",
    "\n",
    "# Treinamento\n",
    "reg.fit(X_train, y_train)\n",
    "\n",
    "# Fazendo previsões\n",
    "y_pred = reg.predict(X_train)\n",
    "\n",
    "# Avaliando modelo\n",
    "\n",
    "R2 = reg.score(X_test, y_test)\n",
    "\n",
    "print(\"O R2 é {}\".format(R2))"
   ]
  },
  {
   "cell_type": "markdown",
   "metadata": {},
   "source": [
    "# Filtro Spam\n",
    "\n",
    "Problema de processamento de linguagem natural (NLP);\n",
    "\n",
    "Aprendizado Supervisionado;\n",
    "\n",
    "Classificação"
   ]
  },
  {
   "cell_type": "markdown",
   "metadata": {},
   "source": [
    "# Bag of Words\n",
    "\n",
    "**O modelo bag of words é uma representação simplificada usada no processamento de linguagem natural. Neste modelo, um texto (uma frase ou um documento) é representado como o saco de suas palavras, desconsiderando a gramática e até a ordem das palavras, mas mantendo a multiplicidade.\n",
    "**\n",
    "\n",
    "**Exemplo** \n",
    "\n",
    "(1) John likes to watch movies. Mary likes movies too.\n",
    "\n",
    "(2) John also likes to watch football games.\n",
    "\n",
    "Vocabulário: \n",
    "\n",
    "[\n",
    "    \"John\",\n",
    "    \"likes\",\n",
    "    \"to\",\n",
    "    \"watch\",\n",
    "    \"movies\",\n",
    "    \"also\",\n",
    "    \"football\",\n",
    "    \"games\",\n",
    "    \"Mary\",\n",
    "    \"too\"\n",
    "]\n",
    "\n",
    "**Representação Vetorial** \n",
    " \n",
    "(1) [1, 2, 1, 1, 2, 0, 0, 0, 1, 1]\n",
    "\n",
    "(2) [1, 1, 1, 1, 0, 1, 1, 1, 0, 0]\n"
   ]
  },
  {
   "cell_type": "code",
   "execution_count": 9,
   "metadata": {},
   "outputs": [
    {
     "data": {
      "image/png": "[encoded data removed]",
      "text/plain": [
       "<matplotlib.figure.Figure at 0x7f90f092bf10>"
      ]
     },
     "metadata": {},
     "output_type": "display_data"
    }
   ],
   "source": [
    "import pandas as pd\n",
    "import seaborn as sns\n",
    "\n",
    "data = pd.read_csv('./smsspamcollection/SMSSpamCollection', delimiter='\\t', header=None)\n",
    "\n",
    "plt.figure(figsize=(20,10))\n",
    "ax = plt.axes()\n",
    "sns.countplot(x=0, data=data, ax=ax);\n"
   ]
  },
  {
   "cell_type": "code",
   "execution_count": 10,
   "metadata": {},
   "outputs": [
    {
     "data": {
      "text/html": [
       "<div>\n",
       "<table border=\"1\" class=\"dataframe\">\n",
       "  <thead>\n",
       "    <tr style=\"text-align: right;\">\n",
       "      <th></th>\n",
       "      <th>0</th>\n",
       "      <th>1</th>\n",
       "    </tr>\n",
       "  </thead>\n",
       "  <tbody>\n",
       "    <tr>\n",
       "      <th>0</th>\n",
       "      <td>ham</td>\n",
       "      <td>Go until jurong point, crazy.. Available only ...</td>\n",
       "    </tr>\n",
       "    <tr>\n",
       "      <th>1</th>\n",
       "      <td>ham</td>\n",
       "      <td>Ok lar... Joking wif u oni...</td>\n",
       "    </tr>\n",
       "    <tr>\n",
       "      <th>2</th>\n",
       "      <td>spam</td>\n",
       "      <td>Free entry in 2 a wkly comp to win FA Cup fina...</td>\n",
       "    </tr>\n",
       "    <tr>\n",
       "      <th>3</th>\n",
       "      <td>ham</td>\n",
       "      <td>U dun say so early hor... U c already then say...</td>\n",
       "    </tr>\n",
       "    <tr>\n",
       "      <th>4</th>\n",
       "      <td>ham</td>\n",
       "      <td>Nah I don't think he goes to usf, he lives aro...</td>\n",
       "    </tr>\n",
       "    <tr>\n",
       "      <th>5</th>\n",
       "      <td>spam</td>\n",
       "      <td>FreeMsg Hey there darling it's been 3 week's n...</td>\n",
       "    </tr>\n",
       "    <tr>\n",
       "      <th>6</th>\n",
       "      <td>ham</td>\n",
       "      <td>Even my brother is not like to speak with me. ...</td>\n",
       "    </tr>\n",
       "    <tr>\n",
       "      <th>7</th>\n",
       "      <td>ham</td>\n",
       "      <td>As per your request 'Melle Melle (Oru Minnamin...</td>\n",
       "    </tr>\n",
       "    <tr>\n",
       "      <th>8</th>\n",
       "      <td>spam</td>\n",
       "      <td>WINNER!! As a valued network customer you have...</td>\n",
       "    </tr>\n",
       "    <tr>\n",
       "      <th>9</th>\n",
       "      <td>spam</td>\n",
       "      <td>Had your mobile 11 months or more? U R entitle...</td>\n",
       "    </tr>\n",
       "  </tbody>\n",
       "</table>\n",
       "</div>"
      ],
      "text/plain": [
       "      0                                                  1\n",
       "0   ham  Go until jurong point, crazy.. Available only ...\n",
       "1   ham                      Ok lar... Joking wif u oni...\n",
       "2  spam  Free entry in 2 a wkly comp to win FA Cup fina...\n",
       "3   ham  U dun say so early hor... U c already then say...\n",
       "4   ham  Nah I don't think he goes to usf, he lives aro...\n",
       "5  spam  FreeMsg Hey there darling it's been 3 week's n...\n",
       "6   ham  Even my brother is not like to speak with me. ...\n",
       "7   ham  As per your request 'Melle Melle (Oru Minnamin...\n",
       "8  spam  WINNER!! As a valued network customer you have...\n",
       "9  spam  Had your mobile 11 months or more? U R entitle..."
      ]
     },
     "execution_count": 10,
     "metadata": {},
     "output_type": "execute_result"
    }
   ],
   "source": [
    "data.head(10)"
   ]
  },
  {
   "cell_type": "markdown",
   "metadata": {},
   "source": [
    "# Pré-processamento\n",
    "\n",
    "**Eliminar stopwords** -- Ruído\n",
    "\n",
    "**Substituir digitos por um token especial  (NUM)**\n",
    "\n",
    "**Eliminar caracteres especiais**\n",
    "\n",
    "**Substituir ham por 0 e spam por 1**"
   ]
  },
  {
   "cell_type": "code",
   "execution_count": 11,
   "metadata": {
    "collapsed": true
   },
   "outputs": [],
   "source": [
    "# Módulo de NLP \n",
    "import nltk\n",
    "nltk.data.path.append('./nltk_data')\n",
    "from nltk.corpus import stopwords\n",
    "from nltk.tokenize import word_tokenize\n",
    "\n",
    "import re"
   ]
  },
  {
   "cell_type": "code",
   "execution_count": 12,
   "metadata": {
    "collapsed": true
   },
   "outputs": [],
   "source": [
    "def preprocess(string):\n",
    "    # Tokenizar string. Exemplo: string = \"Eu amo meu cachorro.\" --> [\"Eu\", \"amo\", \"meu\", \"cachorro\", \".\"]\n",
    "    tokens = word_tokenize(string.decode('utf-8'))\n",
    "    \n",
    "    # Remove stopwords presentes e string em letras minúsculas.\n",
    "    low_tokens = [token.lower() for token in tokens \\\n",
    "                    if token not in stopwords.words('english')]\n",
    "    \n",
    "    # Concatena strings\n",
    "    string = \" \".join(low_tokens)\n",
    "    \n",
    "    # Substitui numeros por NUM. Exemplo: 4 vira NUM, 15 vira NUM, 10000 vira NUM.\n",
    "    string = re.sub(r'\\d{1,}','NUM',string)\n",
    "    \n",
    "    # Elimina caracteres especiais\n",
    "    string = re.sub(r'[^a-z\\s]','',string)\n",
    "    \n",
    "    return string\n",
    "\n",
    "\n",
    "def class2int(classes):\n",
    "    if classes == 'ham':\n",
    "        classes = 0\n",
    "    if classes == 'spam':\n",
    "        classes = 1\n",
    "    return classes\n",
    "\n"
   ]
  },
  {
   "cell_type": "code",
   "execution_count": 14,
   "metadata": {},
   "outputs": [],
   "source": [
    "# Aplicar pré-processamento\n",
    "\n",
    "data[1] = data[1].apply(preprocess)\n",
    "data[0] = data[0].apply(class2int)\n"
   ]
  },
  {
   "cell_type": "code",
   "execution_count": 15,
   "metadata": {},
   "outputs": [
    {
     "data": {
      "text/html": [
       "<div>\n",
       "<table border=\"1\" class=\"dataframe\">\n",
       "  <thead>\n",
       "    <tr style=\"text-align: right;\">\n",
       "      <th></th>\n",
       "      <th>0</th>\n",
       "      <th>1</th>\n",
       "    </tr>\n",
       "  </thead>\n",
       "  <tbody>\n",
       "    <tr>\n",
       "      <th>0</th>\n",
       "      <td>0</td>\n",
       "      <td>go jurong point  crazy available bugis n great...</td>\n",
       "    </tr>\n",
       "    <tr>\n",
       "      <th>1</th>\n",
       "      <td>0</td>\n",
       "      <td>ok lar  joking wif u oni</td>\n",
       "    </tr>\n",
       "    <tr>\n",
       "      <th>2</th>\n",
       "      <td>1</td>\n",
       "      <td>free entry  wkly comp win fa cup final tkts st...</td>\n",
       "    </tr>\n",
       "    <tr>\n",
       "      <th>3</th>\n",
       "      <td>0</td>\n",
       "      <td>u dun say early hor  u c already say</td>\n",
       "    </tr>\n",
       "    <tr>\n",
       "      <th>4</th>\n",
       "      <td>0</td>\n",
       "      <td>nah i nt think goes usf  lives around though</td>\n",
       "    </tr>\n",
       "    <tr>\n",
       "      <th>5</th>\n",
       "      <td>1</td>\n",
       "      <td>freemsg hey darling s  week s word back  i d l...</td>\n",
       "    </tr>\n",
       "    <tr>\n",
       "      <th>6</th>\n",
       "      <td>0</td>\n",
       "      <td>even brother like speak  they treat like aids ...</td>\n",
       "    </tr>\n",
       "    <tr>\n",
       "      <th>7</th>\n",
       "      <td>0</td>\n",
       "      <td>as per request melle melle  oru minnaminungint...</td>\n",
       "    </tr>\n",
       "    <tr>\n",
       "      <th>8</th>\n",
       "      <td>1</td>\n",
       "      <td>winner   as valued network customer selected r...</td>\n",
       "    </tr>\n",
       "    <tr>\n",
       "      <th>9</th>\n",
       "      <td>1</td>\n",
       "      <td>had mobile  months  u r entitled update latest...</td>\n",
       "    </tr>\n",
       "  </tbody>\n",
       "</table>\n",
       "</div>"
      ],
      "text/plain": [
       "   0                                                  1\n",
       "0  0  go jurong point  crazy available bugis n great...\n",
       "1  0                          ok lar  joking wif u oni \n",
       "2  1  free entry  wkly comp win fa cup final tkts st...\n",
       "3  0              u dun say early hor  u c already say \n",
       "4  0       nah i nt think goes usf  lives around though\n",
       "5  1  freemsg hey darling s  week s word back  i d l...\n",
       "6  0  even brother like speak  they treat like aids ...\n",
       "7  0  as per request melle melle  oru minnaminungint...\n",
       "8  1  winner   as valued network customer selected r...\n",
       "9  1  had mobile  months  u r entitled update latest..."
      ]
     },
     "execution_count": 15,
     "metadata": {},
     "output_type": "execute_result"
    }
   ],
   "source": [
    "data.head(10)"
   ]
  },
  {
   "cell_type": "markdown",
   "metadata": {},
   "source": [
    "# SMS to vectors"
   ]
  },
  {
   "cell_type": "code",
   "execution_count": 16,
   "metadata": {
    "collapsed": true
   },
   "outputs": [],
   "source": [
    "from sklearn.feature_extraction.text import CountVectorizer\n",
    "\n",
    "sms = data[1]\n",
    "y = data[0]\n",
    "\n",
    "vect = CountVectorizer(ngram_range=(1,1), max_features=1000)\n",
    "\n",
    "vetores = vect.fit_transform(sms)"
   ]
  },
  {
   "cell_type": "code",
   "execution_count": 17,
   "metadata": {},
   "outputs": [
    {
     "data": {
      "text/plain": [
       "<5572x1000 sparse matrix of type '<type 'numpy.int64'>'\n",
       "\twith 35884 stored elements in Compressed Sparse Row format>"
      ]
     },
     "execution_count": 17,
     "metadata": {},
     "output_type": "execute_result"
    }
   ],
   "source": [
    "vetores"
   ]
  },
  {
   "cell_type": "code",
   "execution_count": 70,
   "metadata": {},
   "outputs": [
    {
     "data": {
      "image/png": "[encoded data removed]",
      "text/plain": [
       "<matplotlib.figure.Figure at 0x7f260eb34490>"
      ]
     },
     "metadata": {},
     "output_type": "display_data"
    }
   ],
   "source": [
    "# Plotar sms (5572 dimensões) em um espaço de 2 dimensões\n",
    "from sklearn.manifold import TSNE\n",
    "\n",
    "# Objeto tsne\n",
    "tsne = TSNE()\n",
    "\n",
    "#Treinamento e Redução de dimensões\n",
    "vet2dims = tsne.fit_transform(vetores.toarray())\n",
    "\n",
    "# Organizar as dimensões e classes em um dataframe\n",
    "df = pd.DataFrame(dict(x=vet2dims[:,0], y=vet2dims[:,1], label=y))\n",
    "\n",
    "#Agrupar por clases\n",
    "groups = df.groupby('label')\n",
    "\n",
    "# Plot sms\n",
    "fig, ax = plt.subplots()\n",
    "ax.margins(0.05)\n",
    "for name, group in groups:\n",
    "    ax.plot(group.x, group.y, marker='o', linestyle='', ms=12, label=name)\n",
    "ax.legend()\n",
    "\n",
    "plt.show()\n"
   ]
  },
  {
   "cell_type": "markdown",
   "metadata": {},
   "source": [
    "# Classificação\n",
    "\n",
    "**Naive Bayes**\n",
    "\n",
    "http://scikit-learn.org/stable/modules/naive_bayes.html"
   ]
  },
  {
   "cell_type": "code",
   "execution_count": 18,
   "metadata": {},
   "outputs": [
    {
     "data": {
      "text/plain": [
       "Pipeline(steps=[('vect', CountVectorizer(analyzer=u'word', binary=False, decode_error=u'strict',\n",
       "        dtype=<type 'numpy.int64'>, encoding=u'utf-8', input=u'content',\n",
       "        lowercase=True, max_df=1.0, max_features=1000, min_df=1,\n",
       "        ngram_range=(1, 1), preprocessor=None, stop_words=None,\n",
       "        strip_accents=None, token_pattern=u'(?u)\\\\b\\\\w\\\\w+\\\\b',\n",
       "        tokenizer=None, vocabulary=None)), ('nb', BernoulliNB(alpha=1.0, binarize=0.0, class_prior=None, fit_prior=True))])"
      ]
     },
     "execution_count": 18,
     "metadata": {},
     "output_type": "execute_result"
    }
   ],
   "source": [
    "from sklearn.naive_bayes import BernoulliNB\n",
    "from sklearn.pipeline import Pipeline\n",
    "\n",
    "\n",
    "# Separar dados em treinamento e teste\n",
    "X_train, X_test, y_train, y_test = train_test_split(sms, y, train_size=0.7, random_state=0)\n",
    "\n",
    "\n",
    "# Criar pipeline\n",
    "clf = Pipeline([('vect', vect), ('nb', BernoulliNB())])\n",
    "\n",
    "clf.fit(X_train, y_train)\n",
    "\n"
   ]
  },
  {
   "cell_type": "markdown",
   "metadata": {},
   "source": [
    "# Desempenho"
   ]
  },
  {
   "cell_type": "code",
   "execution_count": 20,
   "metadata": {},
   "outputs": [
    {
     "name": "stdout",
     "output_type": "stream",
     "text": [
      "Accuracy is 0.983253588517\n",
      "Area under the curve is 0.942405144213\n"
     ]
    }
   ],
   "source": [
    "# Acurácia\n",
    "accuracy = clf.score(X_test, y_test)\n",
    "\n",
    "print(\"Accuracy is {}\".format(accuracy))\n",
    "\n",
    "from sklearn.metrics import auc, roc_curve\n",
    "\n",
    "pred = clf.predict(X_test)\n",
    "\n",
    "# Curva ROC\n",
    "fpr, tpr, thresholds = roc_curve(y_test, pred, pos_label=1)\n",
    "area_under_curve = auc(fpr, tpr)\n",
    "\n",
    "print(\"Area under the curve is {}\".format(area_under_curve))\n"
   ]
  },
  {
   "cell_type": "code",
   "execution_count": 21,
   "metadata": {
    "collapsed": true
   },
   "outputs": [],
   "source": [
    "import numpy as np \n",
    "\n",
    "# Matriz de Confusão\n",
    "\n",
    "def plot_confusion_matrix(cm, classes,title='Confusion matrix', cmap=plt.cm.Blues, rotation=False):\n",
    "    plt.imshow(cm, interpolation='nearest', cmap=cmap)\n",
    "    plt.title(title)\n",
    "    plt.colorbar()\n",
    "    bal = classes\n",
    "    tick_marks = np.arange(len(bal))\n",
    "    if rotation:\n",
    "        plt.xticks(tick_marks, bal, rotation=60)\n",
    "    else:\n",
    "        plt.xticks(tick_marks, bal)\n",
    "    plt.yticks(tick_marks, bal)\n",
    "    plt.tight_layout()\n",
    "    plt.ylabel('True label')\n",
    "    plt.xlabel('Predicted label')\n",
    "    plt.show()"
   ]
  },
  {
   "cell_type": "code",
   "execution_count": 22,
   "metadata": {},
   "outputs": [
    {
     "name": "stdout",
     "output_type": "stream",
     "text": [
      "[[1448    3]\n",
      " [  25  196]]\n"
     ]
    },
    {
     "data": {
      "image/png": "[encoded data removed]",
      "text/plain": [
       "<matplotlib.figure.Figure at 0x7f9139ef1c10>"
      ]
     },
     "metadata": {},
     "output_type": "display_data"
    }
   ],
   "source": [
    "from sklearn.metrics import confusion_matrix\n",
    "\n",
    "y_prediction = clf.predict(X_test)\n",
    "\n",
    "cm = confusion_matrix(y_test, y_prediction)\n",
    "\n",
    "print(cm)\n",
    "plot_confusion_matrix(cm, ['ham', 'spam'])"
   ]
  },
  {
   "cell_type": "code",
   "execution_count": 23,
   "metadata": {},
   "outputs": [
    {
     "data": {
      "text/plain": [
       "['spam_filter.pkl']"
      ]
     },
     "execution_count": 23,
     "metadata": {},
     "output_type": "execute_result"
    }
   ],
   "source": [
    "# Salvando modelo\n",
    "\n",
    "from sklearn.externals import joblib\n",
    "\n",
    "joblib.dump(clf, 'spam_filter.pkl')\n"
   ]
  },
  {
   "cell_type": "code",
   "execution_count": null,
   "metadata": {
    "collapsed": true
   },
   "outputs": [],
   "source": []
  }
 ],
 "metadata": {
  "kernelspec": {
   "display_name": "Python 2",
   "language": "python",
   "name": "python2"
  },
  "language_info": {
   "codemirror_mode": {
    "name": "ipython",
    "version": 2
   },
   "file_extension": ".py",
   "mimetype": "text/x-python",
   "name": "python",
   "nbconvert_exporter": "python",
   "pygments_lexer": "ipython2",
   "version": "2.7.12"
  }
 },
 "nbformat": 4,
 "nbformat_minor": 2
}
